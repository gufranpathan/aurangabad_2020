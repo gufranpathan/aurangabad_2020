{
 "cells": [
  {
   "cell_type": "code",
   "execution_count": 2,
   "metadata": {},
   "outputs": [],
   "source": [
    "import pandas as pd"
   ]
  },
  {
   "cell_type": "markdown",
   "metadata": {},
   "source": [
    "# Fuzzy Matching - 04082020"
   ]
  },
  {
   "cell_type": "code",
   "execution_count": 3,
   "metadata": {},
   "outputs": [],
   "source": [
    "new=pd.read_csv('data/2015 Booth List.csv')\n",
    "old=pd.read_csv('data/2019 Booth List.csv')"
   ]
  },
  {
   "cell_type": "code",
   "execution_count": 6,
   "metadata": {},
   "outputs": [],
   "source": [
    "# I. Fuzzy Matching the intra localities - both old & new"
   ]
  },
  {
   "cell_type": "code",
   "execution_count": 7,
   "metadata": {
    "scrolled": true
   },
   "outputs": [
    {
     "data": {
      "text/plain": [
       "list"
      ]
     },
     "execution_count": 7,
     "metadata": {},
     "output_type": "execute_result"
    }
   ],
   "source": [
    "unique_loc=new['locality'].unique().tolist()\n",
    "type(unique_loc)"
   ]
  },
  {
   "cell_type": "code",
   "execution_count": 7,
   "metadata": {
    "scrolled": true
   },
   "outputs": [
    {
     "name": "stderr",
     "output_type": "stream",
     "text": [
      "/mnt/c/Users/gufra/OneDrive/Documents/Workspace/Jutaav/code_base/aurangabad/venv/lib/python3.6/site-packages/fuzzywuzzy/fuzz.py:11: UserWarning: Using slow pure-python SequenceMatcher. Install python-Levenshtein to remove this warning\n",
      "  warnings.warn('Using slow pure-python SequenceMatcher. Install python-Levenshtein to remove this warning')\n"
     ]
    }
   ],
   "source": [
    "from fuzzywuzzy import process, fuzz"
   ]
  },
  {
   "cell_type": "markdown",
   "metadata": {},
   "source": [
    "# LOCALITY FUZZY - edit 10082020 - (dont use, do direct match on booth first"
   ]
  },
  {
   "cell_type": "code",
   "execution_count": 8,
   "metadata": {},
   "outputs": [],
   "source": [
    "# Intra fuzzy for NEW\n",
    "score_sort = [(x,) + i\n",
    "             for x in unique_loc \n",
    "             for i in process.extract(x, unique_loc,     scorer=fuzz.token_sort_ratio)]\n",
    "#Create a dataframe from the tuples\n",
    "similarity_sort = pd.DataFrame(score_sort, columns=['loc_sort','match_sort','score_sort'])\n",
    "similarity_sort.head()\n",
    "\n",
    "#Derive representative values\n",
    "import numpy as np\n",
    "similarity_sort['sorted_loc_sort'] = np.minimum(similarity_sort['loc_sort'], similarity_sort['match_sort'])\n",
    "similarity_sort.head()\n",
    "\n",
    "high_score_sort = similarity_sort[(similarity_sort['score_sort'] >= 90) &\n",
    "                                      (similarity_sort['loc_sort'] != similarity_sort['match_sort']) &\n",
    "                                      (similarity_sort['sorted_loc_sort'] != similarity_sort['match_sort'])]\n",
    "\n",
    "new1=new.merge(high_score_sort,how='left',left_on=new['locality'].str.upper().str.strip(),\\\n",
    "         right_on=high_score_sort['match_sort'].str.upper().str.strip(),indicator=True)\n",
    "\n",
    "new1['loc_sort1']=np.where(new1['_merge']=='left_only',new1['locality'],new1['sorted_loc_sort'])\n",
    "\n",
    "# Intra Fuzzy for OLD\n",
    "\n",
    "unique_loc1=old['locality'].unique().tolist()\n",
    "score_sort = [(x,) + i\n",
    "             for x in unique_loc \n",
    "             for i in process.extract(x, unique_loc,     scorer=fuzz.token_sort_ratio)]\n",
    "\n",
    "\n",
    "#Create a dataframe from the tuples\n",
    "similarity_sort = pd.DataFrame(score_sort, columns=['loc_sort','match_sort','score_sort'])\n",
    "similarity_sort.head()\n",
    "\n",
    "#Derive representative values\n",
    "import numpy as np\n",
    "similarity_sort['sorted_loc_sort'] = np.minimum(similarity_sort['loc_sort'], similarity_sort['match_sort'])\n",
    "similarity_sort.head()\n",
    "\n",
    "high_score_sort = similarity_sort[(similarity_sort['score_sort'] >= 90) &\n",
    "                                      (similarity_sort['loc_sort'] != similarity_sort['match_sort']) &\n",
    "                                      (similarity_sort['sorted_loc_sort'] != similarity_sort['match_sort'])]\n",
    "\n",
    "old1=old.merge(high_score_sort,how='left',left_on=old['locality'].str.upper().str.strip(),\\\n",
    "         right_on=high_score_sort['match_sort'].str.upper().str.strip(),indicator=True)\n",
    "\n",
    "old1['loc_sort1']=np.where(old1['_merge']=='left_only',old1['locality'],old1['sorted_loc_sort'])"
   ]
  },
  {
   "cell_type": "code",
   "execution_count": 78,
   "metadata": {
    "collapsed": true
   },
   "outputs": [
    {
     "data": {
      "text/html": [
       "<div>\n",
       "<style scoped>\n",
       "    .dataframe tbody tr th:only-of-type {\n",
       "        vertical-align: middle;\n",
       "    }\n",
       "\n",
       "    .dataframe tbody tr th {\n",
       "        vertical-align: top;\n",
       "    }\n",
       "\n",
       "    .dataframe thead th {\n",
       "        text-align: right;\n",
       "    }\n",
       "</style>\n",
       "<table border=\"1\" class=\"dataframe\">\n",
       "  <thead>\n",
       "    <tr style=\"text-align: right;\">\n",
       "      <th></th>\n",
       "      <th>key_0</th>\n",
       "      <th>Number</th>\n",
       "      <th>Name</th>\n",
       "      <th>locality</th>\n",
       "      <th>loc_sort</th>\n",
       "      <th>match_sort</th>\n",
       "      <th>score_sort</th>\n",
       "      <th>sorted_loc_sort</th>\n",
       "      <th>_merge</th>\n",
       "      <th>loc_sort1</th>\n",
       "    </tr>\n",
       "  </thead>\n",
       "  <tbody>\n",
       "    <tr>\n",
       "      <th>211</th>\n",
       "      <td>AMBEDKAR AAWASIYA HIGH SCHOOL</td>\n",
       "      <td>212</td>\n",
       "      <td>Ambedkar Aawasiya High School Kishanganj East ...</td>\n",
       "      <td>Ambedkar Aawasiya High School</td>\n",
       "      <td>NaN</td>\n",
       "      <td>NaN</td>\n",
       "      <td>NaN</td>\n",
       "      <td>NaN</td>\n",
       "      <td>left_only</td>\n",
       "      <td>Ambedkar Aawasiya High School</td>\n",
       "    </tr>\n",
       "    <tr>\n",
       "      <th>212</th>\n",
       "      <td>AMBEDKAR AAWASIYA HIGH SCHOOL</td>\n",
       "      <td>213</td>\n",
       "      <td>Ambedkar Aawasiya High School Kishanganj Middl...</td>\n",
       "      <td>Ambedkar Aawasiya High School</td>\n",
       "      <td>NaN</td>\n",
       "      <td>NaN</td>\n",
       "      <td>NaN</td>\n",
       "      <td>NaN</td>\n",
       "      <td>left_only</td>\n",
       "      <td>Ambedkar Aawasiya High School</td>\n",
       "    </tr>\n",
       "    <tr>\n",
       "      <th>213</th>\n",
       "      <td>AMBEDKAR AAWASIYA HIGH SCHOOL</td>\n",
       "      <td>214</td>\n",
       "      <td>Ambedkar Aawasiya High School Kishanganj West ...</td>\n",
       "      <td>Ambedkar Aawasiya High School</td>\n",
       "      <td>NaN</td>\n",
       "      <td>NaN</td>\n",
       "      <td>NaN</td>\n",
       "      <td>NaN</td>\n",
       "      <td>left_only</td>\n",
       "      <td>Ambedkar Aawasiya High School</td>\n",
       "    </tr>\n",
       "  </tbody>\n",
       "</table>\n",
       "</div>"
      ],
      "text/plain": [
       "                             key_0  Number  \\\n",
       "211  AMBEDKAR AAWASIYA HIGH SCHOOL     212   \n",
       "212  AMBEDKAR AAWASIYA HIGH SCHOOL     213   \n",
       "213  AMBEDKAR AAWASIYA HIGH SCHOOL     214   \n",
       "\n",
       "                                                  Name  \\\n",
       "211  Ambedkar Aawasiya High School Kishanganj East ...   \n",
       "212  Ambedkar Aawasiya High School Kishanganj Middl...   \n",
       "213  Ambedkar Aawasiya High School Kishanganj West ...   \n",
       "\n",
       "                          locality loc_sort match_sort  score_sort  \\\n",
       "211  Ambedkar Aawasiya High School      NaN        NaN         NaN   \n",
       "212  Ambedkar Aawasiya High School      NaN        NaN         NaN   \n",
       "213  Ambedkar Aawasiya High School      NaN        NaN         NaN   \n",
       "\n",
       "    sorted_loc_sort     _merge                      loc_sort1  \n",
       "211             NaN  left_only  Ambedkar Aawasiya High School  \n",
       "212             NaN  left_only  Ambedkar Aawasiya High School  \n",
       "213             NaN  left_only  Ambedkar Aawasiya High School  "
      ]
     },
     "execution_count": 78,
     "metadata": {},
     "output_type": "execute_result"
    }
   ],
   "source": [
    "old1[old1['loc_sort1']=='Ambedkar Aawasiya High School']"
   ]
  },
  {
   "cell_type": "code",
   "execution_count": 80,
   "metadata": {
    "scrolled": true
   },
   "outputs": [
    {
     "data": {
      "text/html": [
       "<div>\n",
       "<style scoped>\n",
       "    .dataframe tbody tr th:only-of-type {\n",
       "        vertical-align: middle;\n",
       "    }\n",
       "\n",
       "    .dataframe tbody tr th {\n",
       "        vertical-align: top;\n",
       "    }\n",
       "\n",
       "    .dataframe thead th {\n",
       "        text-align: right;\n",
       "    }\n",
       "</style>\n",
       "<table border=\"1\" class=\"dataframe\">\n",
       "  <thead>\n",
       "    <tr style=\"text-align: right;\">\n",
       "      <th></th>\n",
       "      <th>key_0</th>\n",
       "      <th>Number</th>\n",
       "      <th>Name</th>\n",
       "      <th>locality</th>\n",
       "      <th>loc_sort</th>\n",
       "      <th>match_sort</th>\n",
       "      <th>score_sort</th>\n",
       "      <th>sorted_loc_sort</th>\n",
       "      <th>_merge</th>\n",
       "      <th>loc_sort1</th>\n",
       "    </tr>\n",
       "  </thead>\n",
       "  <tbody>\n",
       "    <tr>\n",
       "      <th>128</th>\n",
       "      <td>PAHADAKATTA</td>\n",
       "      <td>129</td>\n",
       "      <td>Panchayat Bhawan Pahadakatta, East Part</td>\n",
       "      <td>pahadakatta</td>\n",
       "      <td>pahadakatata</td>\n",
       "      <td>pahadakatta</td>\n",
       "      <td>96.0</td>\n",
       "      <td>pahadakatata</td>\n",
       "      <td>both</td>\n",
       "      <td>pahadakatata</td>\n",
       "    </tr>\n",
       "    <tr>\n",
       "      <th>129</th>\n",
       "      <td>PAHADAKATTA</td>\n",
       "      <td>130</td>\n",
       "      <td>Panchayat Bhawan Pahadakatta West Part</td>\n",
       "      <td>pahadakatta</td>\n",
       "      <td>pahadakatata</td>\n",
       "      <td>pahadakatta</td>\n",
       "      <td>96.0</td>\n",
       "      <td>pahadakatata</td>\n",
       "      <td>both</td>\n",
       "      <td>pahadakatata</td>\n",
       "    </tr>\n",
       "  </tbody>\n",
       "</table>\n",
       "</div>"
      ],
      "text/plain": [
       "           key_0  Number                                     Name  \\\n",
       "128  PAHADAKATTA     129  Panchayat Bhawan Pahadakatta, East Part   \n",
       "129  PAHADAKATTA     130   Panchayat Bhawan Pahadakatta West Part   \n",
       "\n",
       "        locality      loc_sort   match_sort  score_sort sorted_loc_sort  \\\n",
       "128  pahadakatta  pahadakatata  pahadakatta        96.0    pahadakatata   \n",
       "129  pahadakatta  pahadakatata  pahadakatta        96.0    pahadakatata   \n",
       "\n",
       "    _merge     loc_sort1  \n",
       "128   both  pahadakatata  \n",
       "129   both  pahadakatata  "
      ]
     },
     "execution_count": 80,
     "metadata": {},
     "output_type": "execute_result"
    }
   ],
   "source": [
    "old1[old1['loc_sort1']=='pahadakatata']"
   ]
  },
  {
   "cell_type": "markdown",
   "metadata": {},
   "source": [
    "# BOOTH FUZZY - USE THIS"
   ]
  },
  {
   "cell_type": "code",
   "execution_count": 4,
   "metadata": {},
   "outputs": [],
   "source": [
    "# Inter Fuzzy between new1 and old1\n",
    "\n",
    "def checker(wrong_options,correct_options):\n",
    "    \n",
    "    names_array=[]\n",
    "    ratio_array=[]    \n",
    "    for wrong_option in wrong_options:\n",
    "        if wrong_option in correct_options:\n",
    "            names_array.append(wrong_option)\n",
    "            ratio_array.append(\"100\")\n",
    "        else:\n",
    "            x=process.extractOne(wrong_option,correct_options,scorer=fuzz.token_set_ratio)\n",
    "            \n",
    "            names_array.append(x[0])\n",
    "            ratio_array.append(x[1])\n",
    "    return names_array,ratio_array"
   ]
  },
  {
   "cell_type": "code",
   "execution_count": 5,
   "metadata": {},
   "outputs": [],
   "source": [
    "str2Match=old['booth_name'].tolist()\n",
    "strOptions=new['booth_name'].tolist()"
   ]
  },
  {
   "cell_type": "code",
   "execution_count": 8,
   "metadata": {},
   "outputs": [],
   "source": [
    "name_match,ratio_match=checker(str2Match,strOptions)\n",
    "df1 = pd.DataFrame()\n",
    "df1['old_names']=pd.Series(str2Match)\n",
    "df1['correct_names']=pd.Series(name_match)\n",
    "df1['correct_ratio']=pd.Series(ratio_match)\n",
    "# df1.to_excel(‘matched_names.xlsx’, engine=’xlsxwriter’)"
   ]
  },
  {
   "cell_type": "code",
   "execution_count": 9,
   "metadata": {},
   "outputs": [],
   "source": [
    "df1['correct_ratio1']=df1['correct_ratio'].astype(int)"
   ]
  },
  {
   "cell_type": "code",
   "execution_count": 10,
   "metadata": {},
   "outputs": [
    {
     "data": {
      "text/plain": [
       "((255, 4), (322, 4))"
      ]
     },
     "execution_count": 10,
     "metadata": {},
     "output_type": "execute_result"
    }
   ],
   "source": [
    "df1[df1['correct_ratio1']>=90].shape,df1.shape"
   ]
  },
  {
   "cell_type": "code",
   "execution_count": 13,
   "metadata": {},
   "outputs": [],
   "source": [
    "df1.to_csv('data/matched_names.csv',index=False)"
   ]
  },
  {
   "cell_type": "code",
   "execution_count": null,
   "metadata": {},
   "outputs": [],
   "source": []
  }
 ],
 "metadata": {
  "kernelspec": {
   "display_name": "Python 3",
   "language": "python",
   "name": "python3"
  },
  "language_info": {
   "codemirror_mode": {
    "name": "ipython",
    "version": 3
   },
   "file_extension": ".py",
   "mimetype": "text/x-python",
   "name": "python",
   "nbconvert_exporter": "python",
   "pygments_lexer": "ipython3",
   "version": "3.6.9"
  }
 },
 "nbformat": 4,
 "nbformat_minor": 2
}
