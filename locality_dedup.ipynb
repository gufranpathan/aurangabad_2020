{
 "cells": [
  {
   "cell_type": "markdown",
   "metadata": {},
   "source": [
    "### This notebook dedups localities within the same year\n",
    "\n",
    "#### Multipe string distance metrics are used. Booth number also used"
   ]
  },
  {
   "cell_type": "markdown",
   "metadata": {},
   "source": [
    "Required libraries: `pandas`, `recordlinkage`, `numpy`"
   ]
  },
  {
   "cell_type": "code",
   "execution_count": 1,
   "metadata": {},
   "outputs": [],
   "source": [
    "import pandas as pd\n",
    "import recordlinkage\n",
    "import recordlinkage.preprocessing\n",
    "import numpy as np"
   ]
  },
  {
   "cell_type": "code",
   "execution_count": 2,
   "metadata": {},
   "outputs": [],
   "source": [
    "new_df = pd.read_excel('new_booth_to_local_map.xlsx')"
   ]
  },
  {
   "cell_type": "markdown",
   "metadata": {},
   "source": [
    "For each locality, find the average booth number. This is useful when trying to dedup localites. Duplicate localities shouldn't be very far off from each other."
   ]
  },
  {
   "cell_type": "code",
   "execution_count": 3,
   "metadata": {},
   "outputs": [],
   "source": [
    "new_localities = new_df.groupby('name2')['booth_num'].mean().reset_index()"
   ]
  },
  {
   "cell_type": "markdown",
   "metadata": {},
   "source": [
    "Get the metaphone (the way the locality 'sounds'). Not using this currently because not reliable."
   ]
  },
  {
   "cell_type": "code",
   "execution_count": 4,
   "metadata": {},
   "outputs": [],
   "source": [
    "new_localities['metaphone'] = recordlinkage.preprocessing.phonetic(new_df.name2,method=\"metaphone\")"
   ]
  },
  {
   "cell_type": "markdown",
   "metadata": {},
   "source": [
    "Boilerplate code for creating 'match pairs'. Each locality is matched with every other locality, so this creates `multi-index` pairs."
   ]
  },
  {
   "cell_type": "code",
   "execution_count": 5,
   "metadata": {},
   "outputs": [
    {
     "name": "stdout",
     "output_type": "stream",
     "text": [
      "WARNING:recordlinkage:indexing - performance warning - A full index can result in large number of record pairs.\n"
     ]
    }
   ],
   "source": [
    "indexer = recordlinkage.Index()\n",
    "indexer.full()\n",
    "candidate_links = indexer.index(new_localities)"
   ]
  },
  {
   "cell_type": "code",
   "execution_count": 16,
   "metadata": {},
   "outputs": [
    {
     "data": {
      "text/plain": [
       "MultiIndex([(  1,   0),\n",
       "            (  2,   0),\n",
       "            (  2,   1),\n",
       "            (  3,   0),\n",
       "            (  3,   1),\n",
       "            (  3,   2),\n",
       "            (  4,   0),\n",
       "            (  4,   1),\n",
       "            (  4,   2),\n",
       "            (  4,   3),\n",
       "            ...\n",
       "            (192, 182),\n",
       "            (192, 183),\n",
       "            (192, 184),\n",
       "            (192, 185),\n",
       "            (192, 186),\n",
       "            (192, 187),\n",
       "            (192, 188),\n",
       "            (192, 189),\n",
       "            (192, 190),\n",
       "            (192, 191)],\n",
       "           length=18528)"
      ]
     },
     "execution_count": 16,
     "metadata": {},
     "output_type": "execute_result"
    }
   ],
   "source": [
    "candidate_links"
   ]
  },
  {
   "cell_type": "markdown",
   "metadata": {},
   "source": [
    "This is where the comparision happens:"
   ]
  },
  {
   "cell_type": "code",
   "execution_count": 6,
   "metadata": {},
   "outputs": [
    {
     "data": {
      "text/plain": [
       "<Compare>"
      ]
     },
     "execution_count": 6,
     "metadata": {},
     "output_type": "execute_result"
    }
   ],
   "source": [
    "compare_booths = recordlinkage.Compare()\n",
    "\n",
    "#Get Levenshtein score booth name\n",
    "compare_booths.string('name2', 'name2', method='levenshtein', threshold=None, label='name_lv_score')\n",
    "\n",
    "#Get Jaro-Winkler Score for booth name\n",
    "compare_booths.string('name2', 'name2', method='jarowinkler', threshold=None, label='name_jw_score')\n",
    "\n",
    "#Get Jaro-winkler score for the way the name is pronounced\n",
    "compare_booths.string('metaphone', 'metaphone', method='levenshtein', threshold=None, label='metaphone')\n",
    "\n",
    "#Get score for how far apart the booth numbers are\n",
    "compare_booths.numeric('booth_num', 'booth_num', label='booth_number_score',method=\"gauss\",offset=3,scale=5)"
   ]
  },
  {
   "cell_type": "markdown",
   "metadata": {},
   "source": [
    "Run the comparision:"
   ]
  },
  {
   "cell_type": "code",
   "execution_count": 7,
   "metadata": {},
   "outputs": [],
   "source": [
    "features = compare_booths.compute(candidate_links, new_localities)"
   ]
  },
  {
   "cell_type": "markdown",
   "metadata": {},
   "source": [
    "Consolidate scores in a single frame"
   ]
  },
  {
   "cell_type": "code",
   "execution_count": 8,
   "metadata": {},
   "outputs": [
    {
     "name": "stderr",
     "output_type": "stream",
     "text": [
      "/mnt/c/Users/gufra/OneDrive/Documents/Workspace/Jutaav/code_base/aurangabad/venv/lib/python3.6/site-packages/pandas/core/frame.py:4301: SettingWithCopyWarning: \n",
      "A value is trying to be set on a copy of a slice from a DataFrame\n",
      "\n",
      "See the caveats in the documentation: https://pandas.pydata.org/pandas-docs/stable/user_guide/indexing.html#returning-a-view-versus-a-copy\n",
      "  errors=errors,\n"
     ]
    }
   ],
   "source": [
    "#match_index = features[features.sum(axis=1)>0].index.values\n",
    "#match_index = cl.fit_predict(features).values\n",
    "match_index = features.index.values\n",
    "master_name_index = [x[0] for x in match_index]\n",
    "master_names = new_localities.iloc[master_name_index]\n",
    "\n",
    "duplicate_name_index = [x[1] for x in match_index]\n",
    "duplicate_names = new_localities.iloc[duplicate_name_index]\n",
    "\n",
    "master_names.rename(columns={\"name2\":'master_name',\"booth_num\":\"new_booth_num\"},inplace=True)"
   ]
  },
  {
   "cell_type": "code",
   "execution_count": 9,
   "metadata": {},
   "outputs": [
    {
     "name": "stderr",
     "output_type": "stream",
     "text": [
      "/mnt/c/Users/gufra/OneDrive/Documents/Workspace/Jutaav/code_base/aurangabad/venv/lib/python3.6/site-packages/ipykernel_launcher.py:1: SettingWithCopyWarning: \n",
      "A value is trying to be set on a copy of a slice from a DataFrame.\n",
      "Try using .loc[row_indexer,col_indexer] = value instead\n",
      "\n",
      "See the caveats in the documentation: https://pandas.pydata.org/pandas-docs/stable/user_guide/indexing.html#returning-a-view-versus-a-copy\n",
      "  \"\"\"Entry point for launching an IPython kernel.\n",
      "/mnt/c/Users/gufra/OneDrive/Documents/Workspace/Jutaav/code_base/aurangabad/venv/lib/python3.6/site-packages/ipykernel_launcher.py:2: SettingWithCopyWarning: \n",
      "A value is trying to be set on a copy of a slice from a DataFrame.\n",
      "Try using .loc[row_indexer,col_indexer] = value instead\n",
      "\n",
      "See the caveats in the documentation: https://pandas.pydata.org/pandas-docs/stable/user_guide/indexing.html#returning-a-view-versus-a-copy\n",
      "  \n",
      "/mnt/c/Users/gufra/OneDrive/Documents/Workspace/Jutaav/code_base/aurangabad/venv/lib/python3.6/site-packages/ipykernel_launcher.py:3: SettingWithCopyWarning: \n",
      "A value is trying to be set on a copy of a slice from a DataFrame.\n",
      "Try using .loc[row_indexer,col_indexer] = value instead\n",
      "\n",
      "See the caveats in the documentation: https://pandas.pydata.org/pandas-docs/stable/user_guide/indexing.html#returning-a-view-versus-a-copy\n",
      "  This is separate from the ipykernel package so we can avoid doing imports until\n",
      "/mnt/c/Users/gufra/OneDrive/Documents/Workspace/Jutaav/code_base/aurangabad/venv/lib/python3.6/site-packages/ipykernel_launcher.py:4: SettingWithCopyWarning: \n",
      "A value is trying to be set on a copy of a slice from a DataFrame.\n",
      "Try using .loc[row_indexer,col_indexer] = value instead\n",
      "\n",
      "See the caveats in the documentation: https://pandas.pydata.org/pandas-docs/stable/user_guide/indexing.html#returning-a-view-versus-a-copy\n",
      "  after removing the cwd from sys.path.\n",
      "/mnt/c/Users/gufra/OneDrive/Documents/Workspace/Jutaav/code_base/aurangabad/venv/lib/python3.6/site-packages/ipykernel_launcher.py:5: SettingWithCopyWarning: \n",
      "A value is trying to be set on a copy of a slice from a DataFrame.\n",
      "Try using .loc[row_indexer,col_indexer] = value instead\n",
      "\n",
      "See the caveats in the documentation: https://pandas.pydata.org/pandas-docs/stable/user_guide/indexing.html#returning-a-view-versus-a-copy\n",
      "  \"\"\"\n",
      "/mnt/c/Users/gufra/OneDrive/Documents/Workspace/Jutaav/code_base/aurangabad/venv/lib/python3.6/site-packages/ipykernel_launcher.py:6: SettingWithCopyWarning: \n",
      "A value is trying to be set on a copy of a slice from a DataFrame.\n",
      "Try using .loc[row_indexer,col_indexer] = value instead\n",
      "\n",
      "See the caveats in the documentation: https://pandas.pydata.org/pandas-docs/stable/user_guide/indexing.html#returning-a-view-versus-a-copy\n",
      "  \n"
     ]
    }
   ],
   "source": [
    "master_names['duplicate_name'] = duplicate_names.name2.tolist()\n",
    "master_names['duplicate_booth_num'] = duplicate_names.booth_num.tolist()\n",
    "master_names['name_jw_score'] = features.name_jw_score.tolist()\n",
    "master_names['name_lv_score'] = features.name_lv_score.tolist()\n",
    "master_names['booth_score'] = features.booth_number_score.tolist()\n",
    "master_names['metaphone'] = features.metaphone.tolist()\n",
    "#master_names['duplicate_candidate_name'] = duplicate_names.name2.tolist()"
   ]
  },
  {
   "cell_type": "code",
   "execution_count": 11,
   "metadata": {},
   "outputs": [
    {
     "name": "stderr",
     "output_type": "stream",
     "text": [
      "/mnt/c/Users/gufra/OneDrive/Documents/Workspace/Jutaav/code_base/aurangabad/venv/lib/python3.6/site-packages/ipykernel_launcher.py:2: SettingWithCopyWarning: \n",
      "A value is trying to be set on a copy of a slice from a DataFrame.\n",
      "Try using .loc[row_indexer,col_indexer] = value instead\n",
      "\n",
      "See the caveats in the documentation: https://pandas.pydata.org/pandas-docs/stable/user_guide/indexing.html#returning-a-view-versus-a-copy\n",
      "  \n"
     ]
    }
   ],
   "source": [
    "master_names['average_score'] = master_names[['name_jw_score','name_lv_score','booth_score']]\\\n",
    "                                .apply(lambda x:x.mean(),axis=1).round(2)"
   ]
  },
  {
   "cell_type": "code",
   "execution_count": 12,
   "metadata": {},
   "outputs": [],
   "source": [
    "master_names = master_names[['master_name','duplicate_name','new_booth_num','duplicate_booth_num',\n",
    "                            'name_jw_score',\"name_lv_score\",'booth_score','average_score']]"
   ]
  },
  {
   "cell_type": "code",
   "execution_count": 13,
   "metadata": {},
   "outputs": [],
   "source": [
    "master_names.round(5).to_csv('data/dedup_new.csv',index=False)\n"
   ]
  },
  {
   "cell_type": "code",
   "execution_count": 17,
   "metadata": {},
   "outputs": [
    {
     "data": {
      "text/html": [
       "<div>\n",
       "<style scoped>\n",
       "    .dataframe tbody tr th:only-of-type {\n",
       "        vertical-align: middle;\n",
       "    }\n",
       "\n",
       "    .dataframe tbody tr th {\n",
       "        vertical-align: top;\n",
       "    }\n",
       "\n",
       "    .dataframe thead th {\n",
       "        text-align: right;\n",
       "    }\n",
       "</style>\n",
       "<table border=\"1\" class=\"dataframe\">\n",
       "  <thead>\n",
       "    <tr style=\"text-align: right;\">\n",
       "      <th></th>\n",
       "      <th>master_name</th>\n",
       "      <th>duplicate_name</th>\n",
       "      <th>new_booth_num</th>\n",
       "      <th>duplicate_booth_num</th>\n",
       "      <th>name_jw_score</th>\n",
       "      <th>name_lv_score</th>\n",
       "      <th>booth_score</th>\n",
       "      <th>average_score</th>\n",
       "    </tr>\n",
       "  </thead>\n",
       "  <tbody>\n",
       "    <tr>\n",
       "      <th>34</th>\n",
       "      <td>BHARTHAULI</td>\n",
       "      <td>BHARATHAULI</td>\n",
       "      <td>19.0</td>\n",
       "      <td>22.0</td>\n",
       "      <td>0.961818</td>\n",
       "      <td>0.909091</td>\n",
       "      <td>1.0</td>\n",
       "      <td>0.96</td>\n",
       "    </tr>\n",
       "    <tr>\n",
       "      <th>44</th>\n",
       "      <td>CHANDPUR</td>\n",
       "      <td>CHANDAPUR</td>\n",
       "      <td>291.0</td>\n",
       "      <td>290.0</td>\n",
       "      <td>0.977778</td>\n",
       "      <td>0.888889</td>\n",
       "      <td>1.0</td>\n",
       "      <td>0.96</td>\n",
       "    </tr>\n",
       "    <tr>\n",
       "      <th>158</th>\n",
       "      <td>POKHRAHAN</td>\n",
       "      <td>POKHRAHA</td>\n",
       "      <td>64.0</td>\n",
       "      <td>65.0</td>\n",
       "      <td>0.977778</td>\n",
       "      <td>0.888889</td>\n",
       "      <td>1.0</td>\n",
       "      <td>0.96</td>\n",
       "    </tr>\n",
       "    <tr>\n",
       "      <th>36</th>\n",
       "      <td>BHATKUR</td>\n",
       "      <td>BHATAKUR</td>\n",
       "      <td>319.0</td>\n",
       "      <td>318.0</td>\n",
       "      <td>0.975000</td>\n",
       "      <td>0.875000</td>\n",
       "      <td>1.0</td>\n",
       "      <td>0.95</td>\n",
       "    </tr>\n",
       "    <tr>\n",
       "      <th>134</th>\n",
       "      <td>NAUGADH</td>\n",
       "      <td>NAUGAD</td>\n",
       "      <td>94.0</td>\n",
       "      <td>93.0</td>\n",
       "      <td>0.971429</td>\n",
       "      <td>0.857143</td>\n",
       "      <td>1.0</td>\n",
       "      <td>0.94</td>\n",
       "    </tr>\n",
       "    <tr>\n",
       "      <th>67</th>\n",
       "      <td>DOSMHA</td>\n",
       "      <td>DOSMA</td>\n",
       "      <td>321.0</td>\n",
       "      <td>322.0</td>\n",
       "      <td>0.966667</td>\n",
       "      <td>0.833333</td>\n",
       "      <td>1.0</td>\n",
       "      <td>0.93</td>\n",
       "    </tr>\n",
       "    <tr>\n",
       "      <th>69</th>\n",
       "      <td>DUMRI</td>\n",
       "      <td>DUMARI</td>\n",
       "      <td>315.0</td>\n",
       "      <td>316.0</td>\n",
       "      <td>0.961111</td>\n",
       "      <td>0.833333</td>\n",
       "      <td>1.0</td>\n",
       "      <td>0.93</td>\n",
       "    </tr>\n",
       "    <tr>\n",
       "      <th>148</th>\n",
       "      <td>PARSA</td>\n",
       "      <td>PARASA</td>\n",
       "      <td>99.0</td>\n",
       "      <td>100.0</td>\n",
       "      <td>0.914444</td>\n",
       "      <td>0.833333</td>\n",
       "      <td>1.0</td>\n",
       "      <td>0.92</td>\n",
       "    </tr>\n",
       "    <tr>\n",
       "      <th>124</th>\n",
       "      <td>MANDARAPURA</td>\n",
       "      <td>MADARPURA</td>\n",
       "      <td>75.0</td>\n",
       "      <td>77.0</td>\n",
       "      <td>0.892256</td>\n",
       "      <td>0.818182</td>\n",
       "      <td>1.0</td>\n",
       "      <td>0.90</td>\n",
       "    </tr>\n",
       "    <tr>\n",
       "      <th>151</th>\n",
       "      <td>PAWAI</td>\n",
       "      <td>PAVAI</td>\n",
       "      <td>222.0</td>\n",
       "      <td>222.0</td>\n",
       "      <td>0.893333</td>\n",
       "      <td>0.800000</td>\n",
       "      <td>1.0</td>\n",
       "      <td>0.90</td>\n",
       "    </tr>\n",
       "    <tr>\n",
       "      <th>155</th>\n",
       "      <td>POIVWAN</td>\n",
       "      <td>POIVA</td>\n",
       "      <td>113.0</td>\n",
       "      <td>114.0</td>\n",
       "      <td>0.942857</td>\n",
       "      <td>0.714286</td>\n",
       "      <td>1.0</td>\n",
       "      <td>0.89</td>\n",
       "    </tr>\n",
       "    <tr>\n",
       "      <th>9</th>\n",
       "      <td>BADWA</td>\n",
       "      <td>BADAVA</td>\n",
       "      <td>40.0</td>\n",
       "      <td>39.0</td>\n",
       "      <td>0.875556</td>\n",
       "      <td>0.666667</td>\n",
       "      <td>1.0</td>\n",
       "      <td>0.85</td>\n",
       "    </tr>\n",
       "    <tr>\n",
       "      <th>33</th>\n",
       "      <td>BHARKUR</td>\n",
       "      <td>BHAIROPUR</td>\n",
       "      <td>226.0</td>\n",
       "      <td>224.0</td>\n",
       "      <td>0.888889</td>\n",
       "      <td>0.666667</td>\n",
       "      <td>1.0</td>\n",
       "      <td>0.85</td>\n",
       "    </tr>\n",
       "    <tr>\n",
       "      <th>189</th>\n",
       "      <td>WAN</td>\n",
       "      <td>AWAN</td>\n",
       "      <td>36.0</td>\n",
       "      <td>34.0</td>\n",
       "      <td>0.805556</td>\n",
       "      <td>0.750000</td>\n",
       "      <td>1.0</td>\n",
       "      <td>0.85</td>\n",
       "    </tr>\n",
       "    <tr>\n",
       "      <th>12</th>\n",
       "      <td>BAGHOIKALA</td>\n",
       "      <td>BAGHOI</td>\n",
       "      <td>72.0</td>\n",
       "      <td>73.0</td>\n",
       "      <td>0.920000</td>\n",
       "      <td>0.600000</td>\n",
       "      <td>1.0</td>\n",
       "      <td>0.84</td>\n",
       "    </tr>\n",
       "    <tr>\n",
       "      <th>100</th>\n",
       "      <td>KARAHARA</td>\n",
       "      <td>KANABEHARI</td>\n",
       "      <td>121.0</td>\n",
       "      <td>120.0</td>\n",
       "      <td>0.826667</td>\n",
       "      <td>0.600000</td>\n",
       "      <td>1.0</td>\n",
       "      <td>0.81</td>\n",
       "    </tr>\n",
       "  </tbody>\n",
       "</table>\n",
       "</div>"
      ],
      "text/plain": [
       "     master_name duplicate_name  new_booth_num  duplicate_booth_num  \\\n",
       "34    BHARTHAULI    BHARATHAULI           19.0                 22.0   \n",
       "44      CHANDPUR      CHANDAPUR          291.0                290.0   \n",
       "158    POKHRAHAN       POKHRAHA           64.0                 65.0   \n",
       "36       BHATKUR       BHATAKUR          319.0                318.0   \n",
       "134      NAUGADH         NAUGAD           94.0                 93.0   \n",
       "67        DOSMHA          DOSMA          321.0                322.0   \n",
       "69         DUMRI         DUMARI          315.0                316.0   \n",
       "148        PARSA         PARASA           99.0                100.0   \n",
       "124  MANDARAPURA      MADARPURA           75.0                 77.0   \n",
       "151        PAWAI          PAVAI          222.0                222.0   \n",
       "155      POIVWAN          POIVA          113.0                114.0   \n",
       "9          BADWA         BADAVA           40.0                 39.0   \n",
       "33       BHARKUR      BHAIROPUR          226.0                224.0   \n",
       "189          WAN           AWAN           36.0                 34.0   \n",
       "12    BAGHOIKALA         BAGHOI           72.0                 73.0   \n",
       "100     KARAHARA     KANABEHARI          121.0                120.0   \n",
       "\n",
       "     name_jw_score  name_lv_score  booth_score  average_score  \n",
       "34        0.961818       0.909091          1.0           0.96  \n",
       "44        0.977778       0.888889          1.0           0.96  \n",
       "158       0.977778       0.888889          1.0           0.96  \n",
       "36        0.975000       0.875000          1.0           0.95  \n",
       "134       0.971429       0.857143          1.0           0.94  \n",
       "67        0.966667       0.833333          1.0           0.93  \n",
       "69        0.961111       0.833333          1.0           0.93  \n",
       "148       0.914444       0.833333          1.0           0.92  \n",
       "124       0.892256       0.818182          1.0           0.90  \n",
       "151       0.893333       0.800000          1.0           0.90  \n",
       "155       0.942857       0.714286          1.0           0.89  \n",
       "9         0.875556       0.666667          1.0           0.85  \n",
       "33        0.888889       0.666667          1.0           0.85  \n",
       "189       0.805556       0.750000          1.0           0.85  \n",
       "12        0.920000       0.600000          1.0           0.84  \n",
       "100       0.826667       0.600000          1.0           0.81  "
      ]
     },
     "execution_count": 17,
     "metadata": {},
     "output_type": "execute_result"
    }
   ],
   "source": [
    "dups_df = master_names[master_names.average_score>=0.8].sort_values(by=['average_score'],ascending=False)\n",
    "dups_df"
   ]
  },
  {
   "cell_type": "code",
   "execution_count": 18,
   "metadata": {},
   "outputs": [],
   "source": [
    "dups_df.to_csv('data/dupicate_localities.csv',index=False)"
   ]
  }
 ],
 "metadata": {
  "kernelspec": {
   "display_name": "Python 3",
   "language": "python",
   "name": "python3"
  },
  "language_info": {
   "codemirror_mode": {
    "name": "ipython",
    "version": 3
   },
   "file_extension": ".py",
   "mimetype": "text/x-python",
   "name": "python",
   "nbconvert_exporter": "python",
   "pygments_lexer": "ipython3",
   "version": "3.6.9"
  }
 },
 "nbformat": 4,
 "nbformat_minor": 4
}
